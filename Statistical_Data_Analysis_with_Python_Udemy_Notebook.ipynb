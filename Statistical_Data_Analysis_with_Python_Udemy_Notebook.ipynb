{
  "nbformat": 4,
  "nbformat_minor": 0,
  "metadata": {
    "colab": {
      "name": "Statistical Data Analysis with Python: Udemy Notebook by Valentine Mwangi",
      "provenance": [],
      "collapsed_sections": [
        "N21Edx36ox55",
        "St7aVL5WrG7G",
        "4z52olfgpAH3",
        "DrF7LRyDqXJO",
        "rnjM0uQpqbUG",
        "j-vGg0iYpEG9",
        "Ss2lA50PqjGQ",
        "mLwo-Z0kqkwp",
        "K_aCKZtHpH5o",
        "w0kuhzWm9qi5",
        "HoKDLDLiqobN",
        "2eKzd9F5pLjr",
        "1Vwj9DRV94AP",
        "w5mGPeoRqqbB",
        "tGuOaMhopQFb",
        "L1CjUlVWBqWu",
        "58T894zCqsik",
        "RtVYROPBpWok",
        "Ni1GAcIUJ94O",
        "APbIYT_oMdiv",
        "r5DfKk2xpae_",
        "nleF-8-MQ7fS",
        "WqhMHO0MqwIu",
        "M9P3WQT8qGNf",
        "3EcfMKHiTANt",
        "_u78z3bsqz1x",
        "3PW9ggeRqKmd",
        "NIXvLIo_gGdu",
        "DOM_LPx2q1WS",
        "YpotX7V_qNE8",
        "E13p0AjKq2kH"
      ],
      "toc_visible": true,
      "include_colab_link": true
    },
    "kernelspec": {
      "name": "python3",
      "display_name": "Python 3"
    }
  },
  "cells": [
    {
      "cell_type": "markdown",
      "metadata": {
        "id": "view-in-github",
        "colab_type": "text"
      },
      "source": [
        "<a href=\"https://colab.research.google.com/github/lisovyy/pokedex/blob/master/Statistical_Data_Analysis_with_Python_Udemy_Notebook.ipynb\" target=\"_parent\"><img src=\"https://colab.research.google.com/assets/colab-badge.svg\" alt=\"Open In Colab\"/></a>"
      ]
    },
    {
      "cell_type": "markdown",
      "metadata": {
        "id": "N21Edx36ox55"
      },
      "source": [
        "## Statistical Analysis with Python: Notebook"
      ]
    },
    {
      "cell_type": "markdown",
      "metadata": {
        "id": "St7aVL5WrG7G"
      },
      "source": [
        "### Pre-requisites"
      ]
    },
    {
      "cell_type": "code",
      "metadata": {
        "id": "_rz4zI4erI9t"
      },
      "source": [
        "# Importing the required libraries\n",
        "# ---\n",
        "import pandas as pd\n",
        "import numpy as np\n",
        "import seaborn as sns\n",
        "import matplotlib.pyplot as plt"
      ],
      "execution_count": null,
      "outputs": []
    },
    {
      "cell_type": "markdown",
      "metadata": {
        "id": "izNuVdzHo0gl"
      },
      "source": [
        "## 1. Univariate Analysis"
      ]
    },
    {
      "cell_type": "markdown",
      "metadata": {
        "id": "4z52olfgpAH3"
      },
      "source": [
        "### Frequency Tables"
      ]
    },
    {
      "cell_type": "markdown",
      "metadata": {
        "id": "DrF7LRyDqXJO"
      },
      "source": [
        "#### Example"
      ]
    },
    {
      "cell_type": "code",
      "metadata": {
        "id": "ULrUdPpoocb1",
        "colab": {
          "base_uri": "https://localhost:8080/",
          "height": 204
        },
        "outputId": "f3247a9c-fe4e-4ebd-a4ee-a21fb935af0c"
      },
      "source": [
        "# Example: Frequency Tables\n",
        "# ---\n",
        "# Loading and previewing our dataset\n",
        "# ---\n",
        "credit_df = pd.read_csv('http://tiny.cc/aspnpz')\n",
        "credit_df.head()"
      ],
      "execution_count": null,
      "outputs": [
        {
          "output_type": "execute_result",
          "data": {
            "text/html": [
              "<div>\n",
              "<style scoped>\n",
              "    .dataframe tbody tr th:only-of-type {\n",
              "        vertical-align: middle;\n",
              "    }\n",
              "\n",
              "    .dataframe tbody tr th {\n",
              "        vertical-align: top;\n",
              "    }\n",
              "\n",
              "    .dataframe thead th {\n",
              "        text-align: right;\n",
              "    }\n",
              "</style>\n",
              "<table border=\"1\" class=\"dataframe\">\n",
              "  <thead>\n",
              "    <tr style=\"text-align: right;\">\n",
              "      <th></th>\n",
              "      <th>Unnamed: 0</th>\n",
              "      <th>Age</th>\n",
              "      <th>Sex</th>\n",
              "      <th>Job</th>\n",
              "      <th>Housing</th>\n",
              "      <th>Saving accounts</th>\n",
              "      <th>Checking account</th>\n",
              "      <th>Credit amount</th>\n",
              "      <th>Duration</th>\n",
              "      <th>Purpose</th>\n",
              "    </tr>\n",
              "  </thead>\n",
              "  <tbody>\n",
              "    <tr>\n",
              "      <th>0</th>\n",
              "      <td>0</td>\n",
              "      <td>67</td>\n",
              "      <td>male</td>\n",
              "      <td>2</td>\n",
              "      <td>own</td>\n",
              "      <td>NaN</td>\n",
              "      <td>little</td>\n",
              "      <td>1169</td>\n",
              "      <td>6</td>\n",
              "      <td>radio/TV</td>\n",
              "    </tr>\n",
              "    <tr>\n",
              "      <th>1</th>\n",
              "      <td>1</td>\n",
              "      <td>22</td>\n",
              "      <td>female</td>\n",
              "      <td>2</td>\n",
              "      <td>own</td>\n",
              "      <td>little</td>\n",
              "      <td>moderate</td>\n",
              "      <td>5951</td>\n",
              "      <td>48</td>\n",
              "      <td>radio/TV</td>\n",
              "    </tr>\n",
              "    <tr>\n",
              "      <th>2</th>\n",
              "      <td>2</td>\n",
              "      <td>49</td>\n",
              "      <td>male</td>\n",
              "      <td>1</td>\n",
              "      <td>own</td>\n",
              "      <td>little</td>\n",
              "      <td>NaN</td>\n",
              "      <td>2096</td>\n",
              "      <td>12</td>\n",
              "      <td>education</td>\n",
              "    </tr>\n",
              "    <tr>\n",
              "      <th>3</th>\n",
              "      <td>3</td>\n",
              "      <td>45</td>\n",
              "      <td>male</td>\n",
              "      <td>2</td>\n",
              "      <td>free</td>\n",
              "      <td>little</td>\n",
              "      <td>little</td>\n",
              "      <td>7882</td>\n",
              "      <td>42</td>\n",
              "      <td>furniture/equipment</td>\n",
              "    </tr>\n",
              "    <tr>\n",
              "      <th>4</th>\n",
              "      <td>4</td>\n",
              "      <td>53</td>\n",
              "      <td>male</td>\n",
              "      <td>2</td>\n",
              "      <td>free</td>\n",
              "      <td>little</td>\n",
              "      <td>little</td>\n",
              "      <td>4870</td>\n",
              "      <td>24</td>\n",
              "      <td>car</td>\n",
              "    </tr>\n",
              "  </tbody>\n",
              "</table>\n",
              "</div>"
            ],
            "text/plain": [
              "   Unnamed: 0  Age     Sex  ...  Credit amount Duration              Purpose\n",
              "0           0   67    male  ...           1169        6             radio/TV\n",
              "1           1   22  female  ...           5951       48             radio/TV\n",
              "2           2   49    male  ...           2096       12            education\n",
              "3           3   45    male  ...           7882       42  furniture/equipment\n",
              "4           4   53    male  ...           4870       24                  car\n",
              "\n",
              "[5 rows x 10 columns]"
            ]
          },
          "metadata": {
            "tags": []
          },
          "execution_count": 7
        }
      ]
    },
    {
      "cell_type": "code",
      "metadata": {
        "id": "JCb5G_z9uVWg",
        "colab": {
          "base_uri": "https://localhost:8080/"
        },
        "outputId": "70b82fce-16f1-42e6-82f5-d600b13d0738"
      },
      "source": [
        "# Then creating our frequency table\n",
        "# ---\n",
        "# \n",
        "credit_df['Sex'].value_counts()"
      ],
      "execution_count": null,
      "outputs": [
        {
          "output_type": "execute_result",
          "data": {
            "text/plain": [
              "male      690\n",
              "female    310\n",
              "Name: Sex, dtype: int64"
            ]
          },
          "metadata": {
            "tags": []
          },
          "execution_count": 8
        }
      ]
    },
    {
      "cell_type": "markdown",
      "metadata": {
        "id": "rnjM0uQpqbUG"
      },
      "source": [
        "#### <font color=\"green\">Challenge</font>"
      ]
    },
    {
      "cell_type": "code",
      "metadata": {
        "id": "HzhhiC6_qbUI"
      },
      "source": [
        "# Challenge\n",
        "# ---\n",
        "# Question: Create a frequency table from the credit dataset \n",
        "# above on the values in the Savings account variable.\n",
        "# ---\n",
        "# "
      ],
      "execution_count": null,
      "outputs": []
    },
    {
      "cell_type": "markdown",
      "metadata": {
        "id": "j-vGg0iYpEG9"
      },
      "source": [
        "### Bar Charts"
      ]
    },
    {
      "cell_type": "markdown",
      "metadata": {
        "id": "Ss2lA50PqjGQ"
      },
      "source": [
        "#### Example"
      ]
    },
    {
      "cell_type": "code",
      "metadata": {
        "id": "5QnR4vhVqjGR"
      },
      "source": [
        "# Example \n",
        "# ---\n",
        "# A bar chart presents categorical data with rectangular bars with heights \n",
        "# or lengths proportional to the values that they represent. \n",
        "# Lets visualise the savings accounts variable using a bar chart\n",
        "# ---\n",
        "# \n",
        "credit_df['Saving accounts'].value_counts().plot(kind='bar');  "
      ],
      "execution_count": null,
      "outputs": []
    },
    {
      "cell_type": "markdown",
      "metadata": {
        "id": "mLwo-Z0kqkwp"
      },
      "source": [
        "#### <font color=\"green\">Challenge</font>"
      ]
    },
    {
      "cell_type": "code",
      "metadata": {
        "id": "fdJqDMoCqkwq"
      },
      "source": [
        "# Challenge \n",
        "# ---\n",
        "# Create a bar chart to understand the purpose variable\n",
        "# given the credit dataset above. Record 3 key observations.\n",
        "# ---\n",
        "# "
      ],
      "execution_count": null,
      "outputs": []
    },
    {
      "cell_type": "markdown",
      "metadata": {
        "id": "K_aCKZtHpH5o"
      },
      "source": [
        "### Histograms"
      ]
    },
    {
      "cell_type": "markdown",
      "metadata": {
        "id": "w0kuhzWm9qi5"
      },
      "source": [
        "#### Example"
      ]
    },
    {
      "cell_type": "code",
      "metadata": {
        "id": "TXdA-CwO5TeV"
      },
      "source": [
        "# Example\n",
        "# ---\n",
        "# A histogram is a visualisation that uses bars of different heights. \n",
        "# It is similar to a bar chart, but a histogram groups numbers into ranges.\n",
        "# It is an alternative way to display the distribution of a quantitative variable. \n",
        "# ---\n",
        "# Let's create a histogram to get the distribution of our duration variable:\n",
        "# ---\n",
        "# \n",
        "plt.hist(credit_df['Duration'], bins=10, histtype='bar', rwidth=0.9);"
      ],
      "execution_count": null,
      "outputs": []
    },
    {
      "cell_type": "markdown",
      "metadata": {
        "id": "S80U98qn6W13"
      },
      "source": [
        "Observations:\n",
        "1. The highest occurence of duration is around 22 months.\n",
        "2. The histogram illustrates positive skew. This means there's a long tail on the right side of our peak. Because of this skew, the mean duration is larger than the median duration.\n",
        "2. Most duration is from 18 - 24 months.\n"
      ]
    },
    {
      "cell_type": "markdown",
      "metadata": {
        "id": "HoKDLDLiqobN"
      },
      "source": [
        "#### <font color=\"green\">Challenge</font>"
      ]
    },
    {
      "cell_type": "code",
      "metadata": {
        "id": "zhghukeUqobP"
      },
      "source": [
        "# Challenge \n",
        "# ---\n",
        "# Create a histogram to understand the distribution of the age variable in the credit dataset.\n",
        "# Record 3 key observations.\n",
        "# ---\n",
        "# "
      ],
      "execution_count": null,
      "outputs": []
    },
    {
      "cell_type": "markdown",
      "metadata": {
        "id": "2eKzd9F5pLjr"
      },
      "source": [
        "### Pie Charts"
      ]
    },
    {
      "cell_type": "markdown",
      "metadata": {
        "id": "1Vwj9DRV94AP"
      },
      "source": [
        "#### Example"
      ]
    },
    {
      "cell_type": "code",
      "metadata": {
        "id": "e0WobT-S95dr"
      },
      "source": [
        "# Example \n",
        "# ---\n",
        "# A pie chart is a circular graph that shows the relative contribution \n",
        "# that different categories contribute to an overall total.\n",
        "# ---\n",
        "# Let's create a pie chart of the savings account variable.\n",
        "# ---\n",
        "# \n",
        "\n",
        "# We first create a summary table\n",
        "# ---\n",
        "# \n",
        "credit_savings = credit_df['Saving accounts'].value_counts()\n",
        "credit_savings"
      ],
      "execution_count": null,
      "outputs": []
    },
    {
      "cell_type": "code",
      "metadata": {
        "id": "gPTilNhY_Vmm"
      },
      "source": [
        "# create our labels\n",
        "# ---\n",
        "labels = credit_savings.index.tolist()\n",
        "labels"
      ],
      "execution_count": null,
      "outputs": []
    },
    {
      "cell_type": "code",
      "metadata": {
        "id": "j9KoircoC4va"
      },
      "source": [
        "# Then later create our pie chart\n",
        "# ---\n",
        "plt.pie(credit_savings, labels=labels, autopct='%i%%');"
      ],
      "execution_count": null,
      "outputs": []
    },
    {
      "cell_type": "markdown",
      "metadata": {
        "id": "iu2eyzHiBQF3"
      },
      "source": [
        "What did we observe?"
      ]
    },
    {
      "cell_type": "markdown",
      "metadata": {
        "id": "w5mGPeoRqqbB"
      },
      "source": [
        "#### <font color=\"green\">Challenge</font>"
      ]
    },
    {
      "cell_type": "code",
      "metadata": {
        "id": "F53olD_fqqbC"
      },
      "source": [
        "# Challenge \n",
        "# ---\n",
        "# Create a pie chart to understand the contribution of \n",
        "# Checking account categories to the total.\n",
        "# ---\n",
        "# "
      ],
      "execution_count": null,
      "outputs": []
    },
    {
      "cell_type": "markdown",
      "metadata": {
        "id": "tGuOaMhopQFb"
      },
      "source": [
        "### Box Plots"
      ]
    },
    {
      "cell_type": "markdown",
      "metadata": {
        "id": "L1CjUlVWBqWu"
      },
      "source": [
        "#### Example  "
      ]
    },
    {
      "cell_type": "code",
      "metadata": {
        "id": "tJMjDmRFB9nc"
      },
      "source": [
        "# Question\n",
        "# ---\n",
        "# A box plot is used in explanatory data analysis to visually \n",
        "# show the distribution of numerical data and skewness through \n",
        "# displaying the data quartiles (or percentiles) and averages.\n",
        "# It can tell us whether our variable contains outliers. \n",
        "# ---\n",
        "# Question: Let's create a box plot to show the distribution \n",
        "# of the Duration variable. Record your observations.\n",
        "# ---\n",
        "# \n",
        "sns.boxplot(credit_df[\"Duration\"]);"
      ],
      "execution_count": null,
      "outputs": []
    },
    {
      "cell_type": "markdown",
      "metadata": {
        "id": "ruxktQncGIHh"
      },
      "source": [
        "Observations:\n",
        "1. The median duration is roughly 18.\n",
        "2. The minimum recorded duration is 4 and the maximum is 72.\n",
        "3. 75% of duration was above 24 and 25% of duration was below 12.\n",
        "\n",
        "\n",
        "\n",
        "\n"
      ]
    },
    {
      "cell_type": "code",
      "metadata": {
        "id": "PFTkY_lAIbFS"
      },
      "source": [
        "# To see exact numeric values of the quartiles in a box\n",
        "# We can print out the following:\n",
        "# ---\n",
        "# \n",
        "credit_df['Duration'].describe()"
      ],
      "execution_count": null,
      "outputs": []
    },
    {
      "cell_type": "markdown",
      "metadata": {
        "id": "58T894zCqsik"
      },
      "source": [
        "#### <font color=\"green\">Challenge</font>"
      ]
    },
    {
      "cell_type": "code",
      "metadata": {
        "id": "iSZQqKiYqsil"
      },
      "source": [
        "# Challenge \n",
        "# ---\n",
        "# Create a box plot of the Credit amount variable recording key observations.\n",
        "# ---\n",
        "# "
      ],
      "execution_count": null,
      "outputs": []
    },
    {
      "cell_type": "markdown",
      "metadata": {
        "id": "RtVYROPBpWok"
      },
      "source": [
        "### Measures of Central Tendency"
      ]
    },
    {
      "cell_type": "markdown",
      "metadata": {
        "id": "Ni1GAcIUJ94O"
      },
      "source": [
        "#### Examples"
      ]
    },
    {
      "cell_type": "code",
      "metadata": {
        "id": "nvQxoJhfJ_Ev"
      },
      "source": [
        "# Example 1: Mean\n",
        "# ---\n",
        "# Mean is the the average of the values in a variable.\n",
        "# ---\n",
        "# Let's find the mean of the Age variable \n",
        "# ---\n",
        "# \n",
        "mean_age = credit_df['Age'].mean()\n",
        "mean_age\n",
        "round(mean_age, 0)"
      ],
      "execution_count": null,
      "outputs": []
    },
    {
      "cell_type": "code",
      "metadata": {
        "id": "MB108Ed3MOLZ"
      },
      "source": [
        "# Example 2: Median\n",
        "# ---\n",
        "# Median is the middle value given a variable.\n",
        "# ---\n",
        "# \n",
        "median_age = credit_df['Age'].median()\n",
        "median_age"
      ],
      "execution_count": null,
      "outputs": []
    },
    {
      "cell_type": "code",
      "metadata": {
        "id": "cTZAL2qWMQrr"
      },
      "source": [
        "# Example 3: Mode \n",
        "# ---\n",
        "# The mode is the value that occurs the most frequently in your data set.\n",
        "# ---\n",
        "# Let's calculate the mode of the Age variable\n",
        "# ---\n",
        "# \n",
        "mode_age = credit_df['Age'].mode().iloc[0]\n",
        "mode_age"
      ],
      "execution_count": null,
      "outputs": []
    },
    {
      "cell_type": "code",
      "metadata": {
        "id": "CMK5s0seOYKQ"
      },
      "source": [
        "# Bonus: We can also query our credit_df dataframe \n",
        "# to see the records in which the credit_df is equal to 27\n",
        "# ---\n",
        "# \n",
        "credit_df.query('Age==27')"
      ],
      "execution_count": null,
      "outputs": []
    },
    {
      "cell_type": "markdown",
      "metadata": {
        "id": "APbIYT_oMdiv"
      },
      "source": [
        "#### <font color=\"green\">Challenges</font>"
      ]
    },
    {
      "cell_type": "code",
      "metadata": {
        "id": "7O9aj2-nMQk_"
      },
      "source": [
        "# Challenge 1\n",
        "# ---\n",
        "# Question: Calculate the mean of Credit Amount\n",
        "# ---\n",
        "# "
      ],
      "execution_count": null,
      "outputs": []
    },
    {
      "cell_type": "code",
      "metadata": {
        "id": "EU4gPKwhMQb9"
      },
      "source": [
        "# Challenge 2\n",
        "# ---\n",
        "# Question: Calculate the median of Credit Amount\n",
        "# ---\n",
        "#"
      ],
      "execution_count": null,
      "outputs": []
    },
    {
      "cell_type": "code",
      "metadata": {
        "id": "QbX8UMY6MQSk"
      },
      "source": [
        "# Challenge 3\n",
        "# ---\n",
        "# Question: Calculate the mode of Credit Amount\n",
        "# ---\n",
        "#"
      ],
      "execution_count": null,
      "outputs": []
    },
    {
      "cell_type": "markdown",
      "metadata": {
        "id": "r5DfKk2xpae_"
      },
      "source": [
        "### Measures of Dispersion"
      ]
    },
    {
      "cell_type": "markdown",
      "metadata": {
        "id": "nleF-8-MQ7fS"
      },
      "source": [
        "#### Example"
      ]
    },
    {
      "cell_type": "code",
      "metadata": {
        "id": "axinAox-RKnF"
      },
      "source": [
        "# Example 1: Variance\n",
        "# ---\n",
        "# Variance is a measurement of the spread between numbers in a data set. \n",
        "# It measures how far each number in the set is from the mean \n",
        "# and therefore from every other number in the set.\n",
        "# ---\n",
        "# Finding the variance of the Credit amount variable:\n",
        "#\n",
        "credit_df[\"Credit amount\"].var()"
      ],
      "execution_count": null,
      "outputs": []
    },
    {
      "cell_type": "code",
      "metadata": {
        "id": "6p49OekTQ82M"
      },
      "source": [
        "# Example 2: Standard Deviation  \n",
        "# ---\n",
        "# Standard deviation measures the dispersion of a dataset relative \n",
        "# to its mean. It is calculated as the square root of variance by determining \n",
        "# the variation between each data point relative to the mean. \n",
        "# If the data points are further from the mean, there is a \n",
        "# higher deviation within the data set; thus, the more spread \n",
        "# out the data, the higher the standard deviation.\n",
        "# ---\n",
        "# Finding the standard deviation for Credit Amount\n",
        "# ---\n",
        "# \n",
        "credit_df[\"Credit amount\"].std()"
      ],
      "execution_count": null,
      "outputs": []
    },
    {
      "cell_type": "code",
      "metadata": {
        "id": "Hn8nRanNRKdD"
      },
      "source": [
        "# Examples 3: Range\n",
        "# ---\n",
        "# Range is the difference between the minimum and maximum values in a variable\n",
        "# ---\n",
        "# Let's find out the range for Credit Amount\n",
        "# ---\n",
        "# \n",
        "# Finding the min and max values of the herbicide average prices\n",
        "credit_df_max = credit_df[\"Credit amount\"].max()\n",
        "credit_df_min = credit_df[\"Credit amount\"].min()\n",
        "\n",
        "# Calculating the range\n",
        "credit_df_max - credit_df_min"
      ],
      "execution_count": null,
      "outputs": []
    },
    {
      "cell_type": "code",
      "metadata": {
        "id": "82I1lWSqRWaj"
      },
      "source": [
        "# Example 4: Quantiles \n",
        "# ---\n",
        "# Quantiles are used to calculate the interquartile range, \n",
        "# which is a measure of variability around the median.\n",
        "# The measure the spread of values above and below \n",
        "# the mean by dividing the distribution into four groups.\n",
        "# Quantiles are also used to calculate the interquartile range, \n",
        "# which is a measure of variability around the median.\n",
        "# ---\n",
        "# \n",
        "# Finding the quantiles of the Credit amount variable\n",
        "# \n",
        "credit_df[\"Credit amount\"].quantile([0.25, 0.5, 0.75])"
      ],
      "execution_count": null,
      "outputs": []
    },
    {
      "cell_type": "code",
      "metadata": {
        "id": "KZS-nyCfRWEG"
      },
      "source": [
        "# Examples 5: Skewness\n",
        "# ---\n",
        "# Skewness is a measure of symmetry, or more precisely, \n",
        "# the lack of symmetry. A distribution, or data set, is symmetric \n",
        "# if it looks the same to the left and right of the center point.\n",
        "# A negatively skewed distribution has a negative value while \n",
        "# a positive value means the distribution is positively skewed.\n",
        "# ---\n",
        "# Determining the skewness of the credit amount variable.\n",
        "# \n",
        "credit_df[\"Credit amount\"].skew()"
      ],
      "execution_count": null,
      "outputs": []
    },
    {
      "cell_type": "code",
      "metadata": {
        "id": "rqZoaQgrRcCZ"
      },
      "source": [
        "# Examples 6: Kurtosis\n",
        "# ---\n",
        "# Kurtosis is a statistical measure used to describe the degree \n",
        "# to which scores cluster in the tails or the peak of a frequency distribution. \n",
        "# The peak is the tallest part of the distribution, \n",
        "# and the tails are the ends of the distribution.\n",
        "# Positive values of kurtosis indicate that a distribution is peaked and possess thick tails; leptokurtic distribution.\n",
        "# Negative values of kurtosis indicate that a distribution is flat and has thin tails; platykurtic distribution.\n",
        "# If the kurtosis is close to 0, then a normal distribution is often assumed; mesokurtic distribution.\n",
        "# ---\n",
        "# Determining the skeweness of the credit amout variable\n",
        "# \n",
        "credit_df[\"Credit amount\"].kurt()"
      ],
      "execution_count": null,
      "outputs": []
    },
    {
      "cell_type": "code",
      "metadata": {
        "id": "KoeroX3SRb5W"
      },
      "source": [
        "# Example 7: Summary statistics\n",
        "# ---\n",
        "# We can display the summary statistics of a varible by:\n",
        "# ---\n",
        "# \n",
        "credit_df['Credit amount'].describe()"
      ],
      "execution_count": null,
      "outputs": []
    },
    {
      "cell_type": "markdown",
      "metadata": {
        "id": "WqhMHO0MqwIu"
      },
      "source": [
        "#### <font color=\"green\">Challenge</font>"
      ]
    },
    {
      "cell_type": "code",
      "metadata": {
        "id": "f1aCQDaJqwIv"
      },
      "source": [
        "# Challenge 1 \n",
        "# ---\n",
        "# Find the variance of the duration variable recording your observations.\n",
        "# ---\n",
        "# "
      ],
      "execution_count": null,
      "outputs": []
    },
    {
      "cell_type": "code",
      "metadata": {
        "id": "c-JO7q30RpPB"
      },
      "source": [
        "# Challenge 2\n",
        "# ---\n",
        "# Finding the standard deviation for duration variable recording your observations.\n",
        "# ---\n",
        "#"
      ],
      "execution_count": null,
      "outputs": []
    },
    {
      "cell_type": "code",
      "metadata": {
        "id": "zY7evXzPRuzY"
      },
      "source": [
        "# Challenge 3\n",
        "# ---\n",
        "# Calculate the range of the duration variable and record your observations.\n",
        "# ---\n",
        "#"
      ],
      "execution_count": null,
      "outputs": []
    },
    {
      "cell_type": "code",
      "metadata": {
        "id": "qPUAH5syRpIH"
      },
      "source": [
        "# Challenge 4\n",
        "# ---\n",
        "# Finding the quantiles of the duration variable and record your observations.\n",
        "# ---\n",
        "#"
      ],
      "execution_count": null,
      "outputs": []
    },
    {
      "cell_type": "code",
      "metadata": {
        "id": "tVoYqrDeRpCq"
      },
      "source": [
        "# Challenge 5\n",
        "# ---\n",
        "# Determine the skewness of the duration variable. \n",
        "# Record your observation.\n",
        "# ---\n",
        "# "
      ],
      "execution_count": null,
      "outputs": []
    },
    {
      "cell_type": "code",
      "metadata": {
        "id": "dWlAV9adRo5m"
      },
      "source": [
        "# Challenge 6\n",
        "# ---\n",
        "# Question: Determine the kurtosis of the duration variable.\n",
        "# Record your observation.\n",
        "# ---\n",
        "#"
      ],
      "execution_count": null,
      "outputs": []
    },
    {
      "cell_type": "code",
      "metadata": {
        "id": "1Qqa860oRoyt"
      },
      "source": [
        "# Challenge 7\n",
        "# ---\n",
        "# Display the summary statistics of the duration variable\n",
        "# and record your observation.\n",
        "# ---\n",
        "3"
      ],
      "execution_count": null,
      "outputs": []
    },
    {
      "cell_type": "markdown",
      "metadata": {
        "id": "69WcT0zopguq"
      },
      "source": [
        "## 2. Bivariate Analysis"
      ]
    },
    {
      "cell_type": "markdown",
      "metadata": {
        "id": "M9P3WQT8qGNf"
      },
      "source": [
        "### Scatter Plots"
      ]
    },
    {
      "cell_type": "markdown",
      "metadata": {
        "id": "3EcfMKHiTANt"
      },
      "source": [
        "#### Example"
      ]
    },
    {
      "cell_type": "code",
      "metadata": {
        "id": "5BvCmhDcTCDM"
      },
      "source": [
        "# Scatter Plot\n",
        "# ---\n",
        "# A scatter plot reveals relationships or association between two variables.\n",
        "# If the markers are close to making a straight line in the scatter plot, \n",
        "# the two variables have a high correlation. \n",
        "# If the markers are equally distributed in the scatter plot, \n",
        "# the correlation is low, or zero. \n",
        "# However, even though a correlation may seem to be present, \n",
        "# this might not always be the case. We use a correlation matrix to help with this.\n",
        "# ---\n",
        "# This type of plot helps us answer the following questions:\n",
        "# - Are variables X and Y related?\n",
        "# - Are variables X and Y linearly related?\n",
        "# - Are variables X and Y non-linearly related?\n",
        "# - Does the variation in Y change depending on X?\n",
        "# - Are there outliers?\n",
        "# ---\n",
        "# Let's create scatter plot to determine the relationship between the age \n",
        "# and Duration variables:\n",
        "# ---\n",
        "# This time we will use following startup dataset to determine whether\n",
        "# there is any correlation between R&D spend and profit fro startups.\n",
        "# ---\n",
        "#\n",
        "startup_df = pd.read_csv('https://bit.ly/Startupsdataset')\n",
        "startup_df.head()"
      ],
      "execution_count": null,
      "outputs": []
    },
    {
      "cell_type": "code",
      "metadata": {
        "id": "WbUTFZOEdH9h"
      },
      "source": [
        "# Plotting our Scatterplot\n",
        "# ---\n",
        "# \n",
        "startup_df.plot.scatter(x='R&D Spend', y='Profit') \n",
        "plt.title('R&D Spend vs Profit') \n",
        "plt.show()"
      ],
      "execution_count": null,
      "outputs": []
    },
    {
      "cell_type": "markdown",
      "metadata": {
        "id": "R9Rw1FcYWkG_"
      },
      "source": [
        "Key observations:\n",
        "1. As one R&D spend increases, Profit also increases. This means that the two variables have a positive correlation. \n",
        "\n",
        "NB: This correlation does not mean causation. One would need to investigate further whether that is valid."
      ]
    },
    {
      "cell_type": "markdown",
      "metadata": {
        "id": "_u78z3bsqz1x"
      },
      "source": [
        "#### <font color=\"green\">Challenge</font>"
      ]
    },
    {
      "cell_type": "code",
      "metadata": {
        "id": "fLKbLUHyqz1z"
      },
      "source": [
        "# Challenge 1\n",
        "# ---\n",
        "# Using the startup dataset, determine whether there is a correlation between \n",
        "# marketing spend and profit and record your observations. \n",
        "# ---\n",
        "# "
      ],
      "execution_count": null,
      "outputs": []
    },
    {
      "cell_type": "code",
      "metadata": {
        "id": "vXu0qeWMfMOZ"
      },
      "source": [
        "# Challenge 2\n",
        "# ---\n",
        "# Again using the startup dataset, determine whether there is a correlation between \n",
        "# R&D and Administration costs and record your observations. \n",
        "# ---\n",
        "# "
      ],
      "execution_count": null,
      "outputs": []
    },
    {
      "cell_type": "markdown",
      "metadata": {
        "id": "3PW9ggeRqKmd"
      },
      "source": [
        "### Pearson Correlation Coefficient"
      ]
    },
    {
      "cell_type": "markdown",
      "metadata": {
        "id": "NIXvLIo_gGdu"
      },
      "source": [
        "#### Example\n"
      ]
    },
    {
      "cell_type": "code",
      "metadata": {
        "id": "NgpsBfzIgI9s"
      },
      "source": [
        "# Example 1\n",
        "# ---\n",
        "# We can get the pearson correlation coefficient for R&D Spend and marketing spend:\n",
        "# ---\n",
        "pearson_coeff = startup_df[\"R&D Spend\"].corr(startup_df[\"Marketing Spend\"], method=\"pearson\") \n",
        "pearson_coeff"
      ],
      "execution_count": null,
      "outputs": []
    },
    {
      "cell_type": "markdown",
      "metadata": {
        "id": "R0Tns4hTh9oE"
      },
      "source": [
        "Key observations\n",
        "1. A correlation coefficient of 0.72 means that the two variables have a strong positive correlation.\n",
        "\n",
        "A few things to note while working with correlation coefficients:\n",
        "- A correlation coefficient > 0.5 means that the two variables have a strong positive correlation.\n",
        "- A correlation coefficient < 0.5 means that the two variables have a weak positive correlation.\n",
        "- A correlation coefficient of 0 means that the two variables are not correlated at all.\n",
        "- A correlation coefficient between -0.5 and 0 means that the two variables have weak negative correlation.\n",
        "- A correlation coefficient between -1 and -0.5 means that the two variables have strong negative correlation.\n"
      ]
    },
    {
      "cell_type": "code",
      "metadata": {
        "id": "LYUYWehFkZ5r"
      },
      "source": [
        "# Example 2\n",
        "# ---\n",
        "# We can also create a correlation matrix to get all the pearson correlation \n",
        "# coefficients for the variables in a dataframe as shown below.\n",
        "# ---\n",
        "# \n",
        "startup_df.corr()"
      ],
      "execution_count": null,
      "outputs": []
    },
    {
      "cell_type": "code",
      "metadata": {
        "id": "SEj7bce-lXQ6"
      },
      "source": [
        "# Example 3 \n",
        "# ---\n",
        "# To better visualise our correlation matrix we can use a heatmap as shown\n",
        "# ---\n",
        "# \n",
        "sns.heatmap(startup_df.corr(), annot=True, vmin=-1, vmax=1);"
      ],
      "execution_count": null,
      "outputs": []
    },
    {
      "cell_type": "markdown",
      "metadata": {
        "id": "DOM_LPx2q1WS"
      },
      "source": [
        "#### <font color=\"green\">Challenge</font>"
      ]
    },
    {
      "cell_type": "code",
      "metadata": {
        "id": "HnCy91WNq1WT"
      },
      "source": [
        "# Challenge \n",
        "# ---\n",
        "# Calculate the pearson correlation coefficient to determine \n",
        "# the relationship between R&D Spend and Administration costs\n",
        "# given the startup dataset.\n",
        "# ---\n",
        "# "
      ],
      "execution_count": null,
      "outputs": []
    },
    {
      "cell_type": "code",
      "metadata": {
        "id": "03ArAhSZpEbd"
      },
      "source": [
        "# Challenge\n",
        "# ---\n",
        "# You have been provided the following dataset that contains \n",
        "# 7 species of fish data for market sale. \n",
        "# Create correlation matrix and a heat map determining the variables \n",
        "# which have a strong positive correlation.\n",
        "# ---\n",
        "# Dataset url = https://bit.ly/Fishdataset\n",
        "# ---\n",
        "# "
      ],
      "execution_count": null,
      "outputs": []
    },
    {
      "cell_type": "markdown",
      "metadata": {
        "id": "YpotX7V_qNE8"
      },
      "source": [
        "### Line Graphs"
      ]
    },
    {
      "cell_type": "code",
      "metadata": {
        "id": "0uuaGI3asv7Z"
      },
      "source": [
        "# We can also examine relationship between two variables through the use \n",
        "# of line charts as shown in this example. \n",
        "# ---\n",
        "# We will two variables in the following example. \n",
        "# The given dataset  provides production of chocolate by month, \n",
        "# as a percent production from the year 2016 January.\n",
        "# ---\n",
        "# Dataset = https://bit.ly/CandyProductionDs\n",
        "# Dataset info = The industrial production (IP) index measures the real output \n",
        "# of all relevant establishments located in the United States, \n",
        "# regardless of their ownership, but not those located in U.S. territories. \n",
        "# This dataset tracks industrial production every month from January 1972 to August 2017.\n",
        "# ---\n",
        "# \n",
        "\n",
        "# Reading our dataset \n",
        "# ---\n",
        "# \n",
        "candy_df = pd.read_csv('https://bit.ly/CandyProductionDs')\n",
        "\n",
        "# Getting our years 2016 onwards\n",
        "# ---\n",
        "#\n",
        "candy2016_plus_df = candy_df[candy_df['observation_date'] > '2015-12-01']\n",
        "candy2016_plus_df.head()"
      ],
      "execution_count": null,
      "outputs": []
    },
    {
      "cell_type": "code",
      "metadata": {
        "id": "niYS9_E1tcYL"
      },
      "source": [
        "# We then plot our line graph as shown \n",
        "# ---\n",
        "# We can also answer the followig question:\n",
        "# - Which months have the highest candy production?\n",
        "# ---\n",
        "#   \n",
        "candy2016_plus_df.plot.line(x='observation_date', y='IPG3113N');"
      ],
      "execution_count": null,
      "outputs": []
    },
    {
      "cell_type": "markdown",
      "metadata": {
        "id": "E13p0AjKq2kH"
      },
      "source": [
        "#### <font color=\"green\">Challenge</font>"
      ]
    },
    {
      "cell_type": "code",
      "metadata": {
        "id": "Y2h6pBI3q2kJ"
      },
      "source": [
        "# Challenge \n",
        "# ---\n",
        "# Given the following dataset of temperature data recorded \n",
        "# in the city of Sao Paulo, Brazil, clean the dataset then\n",
        "# perform data exploration of the average temperature levels \n",
        "# for the past 20 years.\n",
        "# ---\n",
        "# Dataset url = https://bit.ly/SaoPauloTemp\n",
        "# "
      ],
      "execution_count": null,
      "outputs": []
    }
  ]
}